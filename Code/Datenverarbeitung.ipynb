{
 "cells": [
  {
   "cell_type": "code",
   "execution_count": 1,
   "id": "b467c81d",
   "metadata": {},
   "outputs": [],
   "source": [
    "import h5py\n",
    "import numpy as np\n",
    "import matplotlib.pyplot as plt\n",
    "import sys\n",
    "import glob\n",
    "# Add the directory to the Python path\n",
    "sys.path.append(r'C:\\Users\\noori\\Desktop\\e-BRDF\\Experimentell\\2025_Code\\MWIR-Daten')\n",
    "from brdfAnalysisLib import *\n",
    "import pickle\n",
    "import temp_2_radiance as t2r\n",
    "from joblib import Parallel, delayed"
   ]
  },
  {
   "cell_type": "code",
   "execution_count": 9,
   "id": "3438d56f",
   "metadata": {},
   "outputs": [],
   "source": [
    "fnames0 = sorted(glob.glob(r\"\\\\mrt-pc1\\mrt\\Forschung\\03_Projekte_laufende\\517_e-BRDF_WiVoPro\\11_Projektinhalte\\05_Messungen\\JSSS_MWIR_BRDF\\Surfaces\\Aluminium\\h5\\*.h5\"))\n",
    "fnames1 = sorted(glob.glob(r\"\\\\mrt-pc1\\mrt\\Forschung\\03_Projekte_laufende\\517_e-BRDF_WiVoPro\\11_Projektinhalte\\05_Messungen\\JSSS_MWIR_BRDF\\Surfaces\\Alu_Eloxiert\\h5\\*.h5\"))\n",
    "fnames2 = sorted(glob.glob(r\"\\\\mrt-pc1\\mrt\\Forschung\\03_Projekte_laufende\\517_e-BRDF_WiVoPro\\11_Projektinhalte\\05_Messungen\\JSSS_MWIR_BRDF\\Surfaces\\Aluminium_Sandgestrahlt\\h5\\*.h5\"))\n",
    "fnames3 = sorted(glob.glob(r\"\\\\mrt-pc1\\mrt\\Forschung\\03_Projekte_laufende\\517_e-BRDF_WiVoPro\\11_Projektinhalte\\05_Messungen\\JSSS_MWIR_BRDF\\Surfaces\\Stahl_Sandgestrahlt\\h5\\*.h5\"))\n",
    "fnames4 = sorted(glob.glob(r\"\\\\mrt-pc1\\mrt\\Forschung\\03_Projekte_laufende\\517_e-BRDF_WiVoPro\\11_Projektinhalte\\05_Messungen\\JSSS_MWIR_BRDF\\Surfaces\\Referenzlack_Rau\\h5\\*.h5\"))\n",
    "fnames5 = sorted(glob.glob(r\"\\\\mrt-pc1\\mrt\\Forschung\\03_Projekte_laufende\\517_e-BRDF_WiVoPro\\11_Projektinhalte\\05_Messungen\\JSSS_MWIR_BRDF\\Surfaces\\Referenzlack_Glatt\\h5\\*.h5\"))\n",
    "\n",
    "fnames6 = sorted(glob.glob(r\"\\\\mrt-pc1\\mrt\\Forschung\\03_Projekte_laufende\\517_e-BRDF_WiVoPro\\11_Projektinhalte\\05_Messungen\\JSSS_MWIR_BRDF\\Surfaces\\Aluminium_Geschliffen\\h5\\*.h5\"))\n",
    "fnames7 = sorted(glob.glob(r\"\\\\mrt-pc1\\mrt\\Forschung\\03_Projekte_laufende\\517_e-BRDF_WiVoPro\\11_Projektinhalte\\05_Messungen\\JSSS_MWIR_BRDF\\Surfaces\\Edelstahl\\h5\\*.h5\"))\n",
    "fnames8 = sorted(glob.glob(r\"\\\\mrt-pc1\\mrt\\Forschung\\03_Projekte_laufende\\517_e-BRDF_WiVoPro\\11_Projektinhalte\\05_Messungen\\JSSS_MWIR_BRDF\\Surfaces\\EdelstahlGebuerstet\\h5\\*.h5\"))\n",
    "fnames9 = sorted(glob.glob(r\"\\\\mrt-pc1\\mrt\\Forschung\\03_Projekte_laufende\\517_e-BRDF_WiVoPro\\11_Projektinhalte\\05_Messungen\\JSSS_MWIR_BRDF\\Surfaces\\Kupfer\\h5\\*.h5\"))\n",
    "fnames10 = sorted(glob.glob(r\"\\\\mrt-pc1\\mrt\\Forschung\\03_Projekte_laufende\\517_e-BRDF_WiVoPro\\11_Projektinhalte\\05_Messungen\\JSSS_MWIR_BRDF\\Surfaces\\Messing\\h5\\*.h5\"))\n",
    "fnames11 = sorted(glob.glob(r\"\\\\mrt-pc1\\mrt\\Forschung\\03_Projekte_laufende\\517_e-BRDF_WiVoPro\\11_Projektinhalte\\05_Messungen\\JSSS_MWIR_BRDF\\Surfaces\\Stahl_Verzinkt\\h5\\*.h5\"))\n",
    "names = ['Alu', 'Alu eloxiert', 'Alu sandgestrahlt', 'Stahl sandgestrahlt', 'Referenzlack (Rau)', 'Referenzlack (Glatt)', 'Aluminium geschliffen', 'Edelstahl', 'Edelstahl gebürstet', 'Kupfer', 'Messing', 'Verzinkter Stahl']\n",
    "\n",
    "fnames_all = [fnames0, fnames1, fnames2, fnames3, fnames4, fnames5, fnames6, fnames7, fnames8, fnames9, fnames10, fnames11]\n",
    "\n",
    "with open(r'\\\\mrt-pc1\\mrt\\Forschung\\03_Projekte_laufende\\517_e-BRDF_WiVoPro\\11_Projektinhalte\\05_Messungen\\JSSS_MWIR_BRDF\\Processed\\center_rois.pickle', 'rb') as handle:\n",
    "    center_rois = pickle.load(handle)\n",
    "    \n",
    "thetas_i = np.arange(1, 91, 1)[::-1]\n",
    "thetas_i_rad = np.deg2rad(thetas_i)\n",
    "thetas_o = np.array([15, 20, 30, 40, 45, 50, 60, 70, 80, 85])\n",
    "thetas_o_rad = np.deg2rad(thetas_o)\n",
    "\n",
    "def get_radiances(img_, x_center, y_center):\n",
    "    img = img_.copy()\n",
    "    mask = create_circular_mask(img.shape[0], img.shape[1], (x_center, y_center), radius=12)\n",
    "    return np.mean(img[mask])\n",
    "\n",
    "Reflections= {}"
   ]
  },
  {
   "cell_type": "code",
   "execution_count": 10,
   "id": "38ff4903",
   "metadata": {},
   "outputs": [
    {
     "data": {
      "text/plain": [
       "dict_keys(['Alu', 'Edelstahl gebürstet', 'Referenzlack (Glatt)', 'Alu sandgestrahlt', 'Stahl sandgestrahlt', 'Verzinkter Stahl', 'Alu eloxiert', 'Alu geschliffen', 'Edelstahl', 'Messing', 'Referenzlack (Rau)', 'Kupfer'])"
      ]
     },
     "execution_count": 10,
     "metadata": {},
     "output_type": "execute_result"
    }
   ],
   "source": [
    "center_rois.keys()"
   ]
  },
  {
   "cell_type": "code",
   "execution_count": 11,
   "id": "31f1d975",
   "metadata": {},
   "outputs": [],
   "source": [
    "for j in range(len(names)):\n",
    "    fnames = fnames_all[j]\n",
    "    Ldiff = []\n",
    "    \n",
    "    if names[j] == 'Aluminium geschliffen':\n",
    "        x_center, y_center, _ = center_rois['Alu geschliffen']\n",
    "    else:\n",
    "        x_center, y_center, _ = center_rois[names[j]]\n",
    "    for i in range(len(thetas_o)):\n",
    "        fname = fnames[i]\n",
    "        hf_raw = h5py.File(fname, mode='r')\n",
    "        hf = hf_raw['Radiancedata']\n",
    "        imgs = np.asarray(hf).copy()\n",
    "        hf_raw.close()\n",
    "        delayed_calls = [delayed(get_radiances)(img, x_center, y_center) for img in imgs]\n",
    "        L = Parallel(n_jobs=-1)(delayed_calls)\n",
    "        L = np.asarray(L)\n",
    "        del imgs\n",
    "        Ldiff.append(np.abs(L[:90]-L[90:]))\n",
    "\n",
    "    Reflections[names[j]] = {\n",
    "        'L_o': np.array(Ldiff)\n",
    "    }"
   ]
  },
  {
   "cell_type": "code",
   "execution_count": 13,
   "id": "0b607da2",
   "metadata": {},
   "outputs": [],
   "source": [
    "with open('data.pkl', 'wb') as handle:\n",
    "    pickle.dump(Reflections, handle, protocol=pickle.HIGHEST_PROTOCOL)"
   ]
  }
 ],
 "metadata": {
  "kernelspec": {
   "display_name": "Python 3",
   "language": "python",
   "name": "python3"
  },
  "language_info": {
   "codemirror_mode": {
    "name": "ipython",
    "version": 3
   },
   "file_extension": ".py",
   "mimetype": "text/x-python",
   "name": "python",
   "nbconvert_exporter": "python",
   "pygments_lexer": "ipython3",
   "version": "3.11.5"
  }
 },
 "nbformat": 4,
 "nbformat_minor": 5
}
